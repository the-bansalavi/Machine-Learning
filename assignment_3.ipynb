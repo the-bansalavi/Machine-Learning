{
 "cells": [
  {
   "cell_type": "code",
   "execution_count": 1,
   "metadata": {},
   "outputs": [
    {
     "data": {
      "text/plain": [
       "0.5666666666666667"
      ]
     },
     "execution_count": 1,
     "metadata": {},
     "output_type": "execute_result"
    }
   ],
   "source": [
    "#Ques 2\n",
    "A=1/2 #probability to choose first bag\n",
    "B=6/10 #probabilty of black ball in first bag\n",
    "C=9/17 #probabilty that the ball is black\n",
    "D=(A*B)/C #probability that ball is black and is from first bag\n",
    "D"
   ]
  },
  {
   "cell_type": "code",
   "execution_count": 3,
   "metadata": {},
   "outputs": [
    {
     "data": {
      "text/plain": [
       "0.2857142857142857"
      ]
     },
     "execution_count": 3,
     "metadata": {},
     "output_type": "execute_result"
    }
   ],
   "source": [
    "#Ques 3\n",
    "A=2/3 #probabilty that man speaks truth\n",
    "B=1/6 #probabilty that 4 is obtained\n",
    "C=5/6 #probabilty that 4 is not obtained\n",
    "D=1/3 #probabilty man lies\n",
    "R=(A*B)/((A*B)+(C*D)) #probabilit that no obtained is actually 4\n",
    "R"
   ]
  },
  {
   "cell_type": "code",
   "execution_count": 5,
   "metadata": {},
   "outputs": [
    {
     "data": {
      "text/plain": [
       "0.0303030303030303"
      ]
     },
     "execution_count": 5,
     "metadata": {},
     "output_type": "execute_result"
    }
   ],
   "source": [
    "#Ques1\n",
    "A=11/36 #p(A/B)\n",
    "B=6/36 #p(A)\n",
    "C=2/36 #p(B)\n",
    "D=(C*B)/A #p(B/A)\n",
    "D"
   ]
  },
  {
   "cell_type": "code",
   "execution_count": null,
   "metadata": {},
   "outputs": [],
   "source": []
  }
 ],
 "metadata": {
  "kernelspec": {
   "display_name": "Python 3",
   "language": "python",
   "name": "python3"
  },
  "language_info": {
   "codemirror_mode": {
    "name": "ipython",
    "version": 3
   },
   "file_extension": ".py",
   "mimetype": "text/x-python",
   "name": "python",
   "nbconvert_exporter": "python",
   "pygments_lexer": "ipython3",
   "version": "3.7.1"
  }
 },
 "nbformat": 4,
 "nbformat_minor": 2
}
